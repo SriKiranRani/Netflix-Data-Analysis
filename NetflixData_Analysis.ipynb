{
 "cells": [
  {
   "cell_type": "code",
   "execution_count": 2,
   "id": "5aca8fac",
   "metadata": {},
   "outputs": [
    {
     "name": "stdout",
     "output_type": "stream",
     "text": [
      "  show_id     type  title           director  \\\n",
      "0      s1  TV Show     3%                NaN   \n",
      "1      s2    Movie  07:19  Jorge Michel Grau   \n",
      "2      s3    Movie  23:59       Gilbert Chan   \n",
      "3      s4    Movie      9        Shane Acker   \n",
      "4      s5    Movie     21     Robert Luketic   \n",
      "\n",
      "                                                cast        country  \\\n",
      "0  João Miguel, Bianca Comparato, Michel Gomes, R...         Brazil   \n",
      "1  Demián Bichir, Héctor Bonilla, Oscar Serrano, ...         Mexico   \n",
      "2  Tedd Chan, Stella Chung, Henley Hii, Lawrence ...      Singapore   \n",
      "3  Elijah Wood, John C. Reilly, Jennifer Connelly...  United States   \n",
      "4  Jim Sturgess, Kevin Spacey, Kate Bosworth, Aar...  United States   \n",
      "\n",
      "          date_added  release_year rating   duration  \\\n",
      "0    August 14, 2020          2020  TV-MA  4 Seasons   \n",
      "1  December 23, 2016          2016  TV-MA     93 min   \n",
      "2  December 20, 2018          2011      R     78 min   \n",
      "3  November 16, 2017          2009  PG-13     80 min   \n",
      "4    January 1, 2020          2008  PG-13    123 min   \n",
      "\n",
      "                                           listed_in  \\\n",
      "0  International TV Shows, TV Dramas, TV Sci-Fi &...   \n",
      "1                       Dramas, International Movies   \n",
      "2                Horror Movies, International Movies   \n",
      "3  Action & Adventure, Independent Movies, Sci-Fi...   \n",
      "4                                             Dramas   \n",
      "\n",
      "                                         description  \n",
      "0  In a future where the elite inhabit an island ...  \n",
      "1  After a devastating earthquake hits Mexico Cit...  \n",
      "2  When an army recruit is found dead, his fellow...  \n",
      "3  In a postapocalyptic world, rag-doll robots hi...  \n",
      "4  A brilliant group of students become card-coun...  \n"
     ]
    }
   ],
   "source": [
    "import pandas as pd\n",
    "import matplotlib.pyplot as plt\n",
    "import seaborn as sns\n",
    "from sklearn.feature_extraction.text import TfidfVectorizer\n",
    "from sklearn.metrics.pairwise import linear_kernel\n",
    "\n",
    "\n",
    "# Load the Netflix dataset\n",
    "netflix_data = pd.read_csv('C:/Users/ravip/Desktop/SEM2/Applied ML/project/Project_3_data.csv')\n",
    "df= netflix_data\n",
    "\n",
    "# Display the first few rows of the dataset to understand its structure\n",
    "print(netflix_data.head())\n"
   ]
  },
  {
   "cell_type": "code",
   "execution_count": 4,
   "id": "5451ad18",
   "metadata": {},
   "outputs": [
    {
     "data": {
      "text/html": [
       "<div>\n",
       "<style scoped>\n",
       "    .dataframe tbody tr th:only-of-type {\n",
       "        vertical-align: middle;\n",
       "    }\n",
       "\n",
       "    .dataframe tbody tr th {\n",
       "        vertical-align: top;\n",
       "    }\n",
       "\n",
       "    .dataframe thead th {\n",
       "        text-align: right;\n",
       "    }\n",
       "</style>\n",
       "<table border=\"1\" class=\"dataframe\">\n",
       "  <thead>\n",
       "    <tr style=\"text-align: right;\">\n",
       "      <th></th>\n",
       "      <th>release_year</th>\n",
       "    </tr>\n",
       "  </thead>\n",
       "  <tbody>\n",
       "    <tr>\n",
       "      <th>count</th>\n",
       "      <td>7787.000000</td>\n",
       "    </tr>\n",
       "    <tr>\n",
       "      <th>mean</th>\n",
       "      <td>2013.932580</td>\n",
       "    </tr>\n",
       "    <tr>\n",
       "      <th>std</th>\n",
       "      <td>8.757395</td>\n",
       "    </tr>\n",
       "    <tr>\n",
       "      <th>min</th>\n",
       "      <td>1925.000000</td>\n",
       "    </tr>\n",
       "    <tr>\n",
       "      <th>25%</th>\n",
       "      <td>2013.000000</td>\n",
       "    </tr>\n",
       "    <tr>\n",
       "      <th>50%</th>\n",
       "      <td>2017.000000</td>\n",
       "    </tr>\n",
       "    <tr>\n",
       "      <th>75%</th>\n",
       "      <td>2018.000000</td>\n",
       "    </tr>\n",
       "    <tr>\n",
       "      <th>max</th>\n",
       "      <td>2021.000000</td>\n",
       "    </tr>\n",
       "  </tbody>\n",
       "</table>\n",
       "</div>"
      ],
      "text/plain": [
       "       release_year\n",
       "count   7787.000000\n",
       "mean    2013.932580\n",
       "std        8.757395\n",
       "min     1925.000000\n",
       "25%     2013.000000\n",
       "50%     2017.000000\n",
       "75%     2018.000000\n",
       "max     2021.000000"
      ]
     },
     "execution_count": 4,
     "metadata": {},
     "output_type": "execute_result"
    }
   ],
   "source": [
    "netflix_data.describe()"
   ]
  },
  {
   "cell_type": "code",
   "execution_count": 5,
   "id": "f12553ec",
   "metadata": {},
   "outputs": [
    {
     "name": "stdout",
     "output_type": "stream",
     "text": [
      "<class 'pandas.core.frame.DataFrame'>\n",
      "RangeIndex: 7787 entries, 0 to 7786\n",
      "Data columns (total 12 columns):\n",
      " #   Column        Non-Null Count  Dtype \n",
      "---  ------        --------------  ----- \n",
      " 0   show_id       7787 non-null   object\n",
      " 1   type          7787 non-null   object\n",
      " 2   title         7787 non-null   object\n",
      " 3   director      5398 non-null   object\n",
      " 4   cast          7069 non-null   object\n",
      " 5   country       7280 non-null   object\n",
      " 6   date_added    7777 non-null   object\n",
      " 7   release_year  7787 non-null   int64 \n",
      " 8   rating        7780 non-null   object\n",
      " 9   duration      7787 non-null   object\n",
      " 10  listed_in     7787 non-null   object\n",
      " 11  description   7787 non-null   object\n",
      "dtypes: int64(1), object(11)\n",
      "memory usage: 730.2+ KB\n"
     ]
    }
   ],
   "source": [
    "netflix_data.info()"
   ]
  },
  {
   "cell_type": "code",
   "execution_count": 3,
   "id": "56012112",
   "metadata": {},
   "outputs": [
    {
     "name": "stdout",
     "output_type": "stream",
     "text": [
      "TV-MA    1665\n",
      "TV-14    1133\n",
      "R         654\n",
      "TV-PG     413\n",
      "PG-13     375\n",
      "PG        238\n",
      "TV-G       80\n",
      "TV-Y       71\n",
      "TV-Y7      69\n",
      "NR         62\n",
      "Name: rating, dtype: int64\n"
     ]
    }
   ],
   "source": [
    "# Remove NAs, nans, and nulls from the data\n",
    "netflix_data = netflix_data.dropna()\n",
    "\n",
    "# Task 1: Top 10 rated movies (R, TV-14, etc.) in a bar chart\n",
    "Rating_counts = netflix_data['rating'].value_counts().head(10)\n",
    "print(Rating_counts)\n",
    "\n"
   ]
  },
  {
   "cell_type": "code",
   "execution_count": 4,
   "id": "913173f0",
   "metadata": {},
   "outputs": [
    {
     "data": {
      "image/png": "[encoded data removed]",
      "text/plain": [
       "<Figure size 864x432 with 1 Axes>"
      ]
     },
     "metadata": {
      "needs_background": "light"
     },
     "output_type": "display_data"
    }
   ],
   "source": [
    "# Extract relevant columns for this task\n",
    "top_rated_movies = netflix_data[['rating']]\n",
    "\n",
    "# Count the occurrences of each rating\n",
    "rating_counts = top_rated_movies['rating'].value_counts().head(10)\n",
    "\n",
    "# Plot the bar chart\n",
    "plt.figure(figsize=(12, 6))\n",
    "rating_counts.plot(kind='bar', color='skyblue')\n",
    "plt.title('Top 10 Rated Movies on Netflix')\n",
    "plt.xlabel('Rating')\n",
    "plt.ylabel('Count')\n",
    "plt.show()"
   ]
  },
  {
   "cell_type": "code",
   "execution_count": 5,
   "id": "88844612",
   "metadata": {},
   "outputs": [
    {
     "name": "stderr",
     "output_type": "stream",
     "text": [
      "C:\\Users\\ravip\\AppData\\Local\\Temp\\ipykernel_22488\\2038063943.py:2: SettingWithCopyWarning: \n",
      "A value is trying to be set on a copy of a slice from a DataFrame.\n",
      "Try using .loc[row_indexer,col_indexer] = value instead\n",
      "\n",
      "See the caveats in the documentation: https://pandas.pydata.org/pandas-docs/stable/user_guide/indexing.html#returning-a-view-versus-a-copy\n",
      "  netflix_data['decade'] = (netflix_data['release_year'] // 10) * 10\n"
     ]
    },
    {
     "data": {
      "image/png": "[encoded data removed]",
      "text/plain": [
       "<Figure size 864x576 with 1 Axes>"
      ]
     },
     "metadata": {
      "needs_background": "light"
     },
     "output_type": "display_data"
    }
   ],
   "source": [
    "# Convert 'release_year' to a decade\n",
    "netflix_data['decade'] = (netflix_data['release_year'] // 10) * 10\n",
    "\n",
    "# Create a stacked bar chart for top ratings by count for every decade\n",
    "decade_ratings = netflix_data.groupby(['decade', 'rating']).size().unstack().fillna(0)\n",
    "\n",
    "# Plot the results\n",
    "ax = decade_ratings.plot(kind='bar', stacked=True, figsize=(12, 8))\n",
    "plt.title('Top Ratings by Count for Every Decade')\n",
    "plt.xlabel('Decade')\n",
    "plt.ylabel('Count')\n",
    "plt.legend(title='Rating', bbox_to_anchor=(1.05, 1), loc='upper left')\n",
    "plt.show()\n"
   ]
  },
  {
   "cell_type": "code",
   "execution_count": 6,
   "id": "3bbe8ce3",
   "metadata": {},
   "outputs": [
    {
     "name": "stdout",
     "output_type": "stream",
     "text": [
      "United States     1653\n",
      "India              832\n",
      "United Kingdom     174\n",
      "Canada             104\n",
      "Egypt               87\n",
      "Spain               83\n",
      "Turkey              76\n",
      "Japan               76\n",
      "Philippines         70\n",
      "Indonesia           67\n",
      "Name: country, dtype: int64\n"
     ]
    }
   ],
   "source": [
    "# Task 1: Understanding what content is available in different countries\n",
    "country_distribution = netflix_data['country'].value_counts().head(10)\n",
    "print(country_distribution)\n"
   ]
  },
  {
   "cell_type": "code",
   "execution_count": 7,
   "id": "0a741077",
   "metadata": {
    "scrolled": true
   },
   "outputs": [
    {
     "data": {
      "image/png": "[encoded data removed]",
      "text/plain": [
       "<Figure size 864x432 with 1 Axes>"
      ]
     },
     "metadata": {
      "needs_background": "light"
     },
     "output_type": "display_data"
    }
   ],
   "source": [
    "\n",
    "# Visualize the distribution of content by country\n",
    "plt.figure(figsize=(12, 6))\n",
    "sns.countplot(x='country', data=netflix_data, order=netflix_data['country'].value_counts().index[:10])\n",
    "plt.title('Top 10 Countries with Netflix Content')\n",
    "plt.xticks(rotation=45, ha='right')\n",
    "plt.show()\n"
   ]
  },
  {
   "cell_type": "code",
   "execution_count": 9,
   "id": "4915656e",
   "metadata": {},
   "outputs": [
    {
     "name": "stdout",
     "output_type": "stream",
     "text": [
      "Recommendations for '3%':\n",
      "2172     Fire in Paradise\n",
      "5821               Stoked\n",
      "6525    The Keeping Hours\n",
      "6907         The Stranded\n",
      "3634          Lifechanger\n",
      "Name: title, dtype: object\n"
     ]
    }
   ],
   "source": [
    "# Task 2: Identifying similar content by matching text-based features\n",
    "from sklearn.feature_extraction.text import TfidfVectorizer\n",
    "from sklearn.metrics.pairwise import linear_kernel\n",
    "\n",
    "# Combine relevant text-based features\n",
    "df['text_features'] = df['title'] + ' ' + df['description']\n",
    "\n",
    "# Create a TF-IDF matrix\n",
    "tfidf_vectorizer = TfidfVectorizer(stop_words='english')\n",
    "tfidf_matrix = tfidf_vectorizer.fit_transform(df['text_features'].fillna(''))\n",
    "\n",
    "# Compute the cosine similarity\n",
    "cosine_sim = linear_kernel(tfidf_matrix, tfidf_matrix)\n",
    "\n",
    "# Function to get recommendations based on similarity\n",
    "def get_recommendations(title):\n",
    "    idx = df.index[df['title'] == title].tolist()[0]\n",
    "    sim_scores = list(enumerate(cosine_sim[idx]))\n",
    "    sim_scores = sorted(sim_scores, key=lambda x: x[1], reverse=True)\n",
    "    sim_scores = sim_scores[1:6]\n",
    "    movie_indices = [i[0] for i in sim_scores]\n",
    "    return df['title'].iloc[movie_indices]\n",
    "\n",
    "# Example: Get recommendations for a specific title\n",
    "title_to_recommend = '3%'\n",
    "recommendations = get_recommendations(title_to_recommend)\n",
    "print(f\"Recommendations for '{title_to_recommend}':\\n{recommendations}\")\n"
   ]
  },
  {
   "cell_type": "code",
   "execution_count": 10,
   "id": "63b8e787",
   "metadata": {},
   "outputs": [
    {
     "data": {
      "text/plain": [
       "<Figure size 864x576 with 0 Axes>"
      ]
     },
     "metadata": {},
     "output_type": "display_data"
    },
    {
     "data": {
      "image/png": "[encoded data removed]",
      "text/plain": [
       "<Figure size 432x288 with 1 Axes>"
      ]
     },
     "metadata": {
      "needs_background": "light"
     },
     "output_type": "display_data"
    }
   ],
   "source": [
    "# Task 3: Is Netflix increasingly focusing on TV rather than movies in recent years\n",
    "\n",
    "# Extract relevant columns for this task\n",
    "focus_data = df[['type', 'release_year']]\n",
    "\n",
    "# Count the number of TV shows and movies released each year\n",
    "focus_count = focus_data.groupby(['release_year', 'type']).size().unstack().fillna(0)\n",
    "# Set a larger figure size\n",
    "plt.figure(figsize=(12, 8))\n",
    "\n",
    "# Plot the results with adjusted x-axis interval\n",
    "ax = focus_count.plot(kind='bar', stacked=True)\n",
    "plt.title('Netflix Focus on TV Shows vs Movies Over the Years')\n",
    "plt.xlabel('Release Year')\n",
    "plt.ylabel('Count')\n",
    "\n",
    "# Adjust x-axis interval further\n",
    "plt.xticks(range(0, len(focus_count.index), 4), focus_count.index[::4], rotation=45)\n",
    "\n",
    "plt.show()\n"
   ]
  },
  {
   "cell_type": "code",
   "execution_count": 23,
   "id": "b5c5be0c",
   "metadata": {},
   "outputs": [
    {
     "name": "stdout",
     "output_type": "stream",
     "text": [
      "Unique Directors for TV-MA: ['Jorge Michel Grau' 'Serdar Akar' 'Yasir Al Yasiri' ...\n",
      " 'Gabriel Cruz Rivas' 'Shlok Sharma' 'Josef Fares']\n",
      "Unique Actors for TV-MA: ['João Miguel' 'Bianca Comparato' 'Michel Gomes' ... 'Charbel Iskandar'\n",
      " 'Yasmine Awad' 'Nasty C']\n"
     ]
    }
   ],
   "source": [
    "#Director or Actor Preferences: Identify directors or actors known for producing or starring in content with specific ratings.\n",
    "\n",
    "# Function to get unique directors for a specific rating\n",
    "def get_directors_by_rating(df, rating):\n",
    "    filtered_data = df[(df['rating'] == rating) & (df['director'].notna())]\n",
    "    directors = filtered_data['director'].str.split(',').explode().str.strip().unique()\n",
    "    return directors\n",
    "\n",
    "# Function to get unique actors for a specific rating\n",
    "def get_actors_by_rating(df, rating):\n",
    "    filtered_data = df[(df['rating'] == rating) & (df['cast'].notna())]\n",
    "    actors = filtered_data['cast'].str.split(',').explode().str.strip().unique()\n",
    "    return actors\n",
    "\n",
    "# Example: Get unique directors and actors for TV-MA rated content\n",
    "tv_ma_directors = get_directors_by_rating(df, 'TV-MA')\n",
    "tv_ma_actors = get_actors_by_rating(df, 'TV-MA')\n",
    "\n",
    "# Display the results\n",
    "print(f\"Unique Directors for TV-MA: {tv_ma_directors}\")\n",
    "print(f\"Unique Actors for TV-MA: {tv_ma_actors}\")\n"
   ]
  },
  {
   "cell_type": "code",
   "execution_count": 24,
   "id": "77dd7bdc",
   "metadata": {},
   "outputs": [
    {
     "data": {
      "text/html": [
       "<div>\n",
       "<style scoped>\n",
       "    .dataframe tbody tr th:only-of-type {\n",
       "        vertical-align: middle;\n",
       "    }\n",
       "\n",
       "    .dataframe tbody tr th {\n",
       "        vertical-align: top;\n",
       "    }\n",
       "\n",
       "    .dataframe thead th {\n",
       "        text-align: right;\n",
       "    }\n",
       "</style>\n",
       "<table border=\"1\" class=\"dataframe\">\n",
       "  <thead>\n",
       "    <tr style=\"text-align: right;\">\n",
       "      <th></th>\n",
       "      <th>0</th>\n",
       "    </tr>\n",
       "  </thead>\n",
       "  <tbody>\n",
       "    <tr>\n",
       "      <th>0</th>\n",
       "      <td>Jorge Michel Grau</td>\n",
       "    </tr>\n",
       "    <tr>\n",
       "      <th>1</th>\n",
       "      <td>Serdar Akar</td>\n",
       "    </tr>\n",
       "    <tr>\n",
       "      <th>2</th>\n",
       "      <td>Yasir Al Yasiri</td>\n",
       "    </tr>\n",
       "    <tr>\n",
       "      <th>3</th>\n",
       "      <td>Vikram Bhatt</td>\n",
       "    </tr>\n",
       "    <tr>\n",
       "      <th>4</th>\n",
       "      <td>Zak Hilditch</td>\n",
       "    </tr>\n",
       "    <tr>\n",
       "      <th>5</th>\n",
       "      <td>Diego Enrique Osorno</td>\n",
       "    </tr>\n",
       "    <tr>\n",
       "      <th>6</th>\n",
       "      <td>Nottapon Boonprakob</td>\n",
       "    </tr>\n",
       "    <tr>\n",
       "      <th>7</th>\n",
       "      <td>Cho Il</td>\n",
       "    </tr>\n",
       "    <tr>\n",
       "      <th>8</th>\n",
       "      <td>Cristina Jacob</td>\n",
       "    </tr>\n",
       "    <tr>\n",
       "      <th>9</th>\n",
       "      <td>Frank Ariza</td>\n",
       "    </tr>\n",
       "  </tbody>\n",
       "</table>\n",
       "</div>"
      ],
      "text/plain": [
       "                      0\n",
       "0     Jorge Michel Grau\n",
       "1           Serdar Akar\n",
       "2       Yasir Al Yasiri\n",
       "3          Vikram Bhatt\n",
       "4          Zak Hilditch\n",
       "5  Diego Enrique Osorno\n",
       "6   Nottapon Boonprakob\n",
       "7                Cho Il\n",
       "8        Cristina Jacob\n",
       "9           Frank Ariza"
      ]
     },
     "execution_count": 24,
     "metadata": {},
     "output_type": "execute_result"
    }
   ],
   "source": [
    "Directors_df = pd.DataFrame(tv_ma_directors)\n",
    "Directors_df.head(10)"
   ]
  },
  {
   "cell_type": "code",
   "execution_count": 25,
   "id": "2bba91a0",
   "metadata": {},
   "outputs": [
    {
     "data": {
      "text/html": [
       "<div>\n",
       "<style scoped>\n",
       "    .dataframe tbody tr th:only-of-type {\n",
       "        vertical-align: middle;\n",
       "    }\n",
       "\n",
       "    .dataframe tbody tr th {\n",
       "        vertical-align: top;\n",
       "    }\n",
       "\n",
       "    .dataframe thead th {\n",
       "        text-align: right;\n",
       "    }\n",
       "</style>\n",
       "<table border=\"1\" class=\"dataframe\">\n",
       "  <thead>\n",
       "    <tr style=\"text-align: right;\">\n",
       "      <th></th>\n",
       "      <th>0</th>\n",
       "    </tr>\n",
       "  </thead>\n",
       "  <tbody>\n",
       "    <tr>\n",
       "      <th>0</th>\n",
       "      <td>João Miguel</td>\n",
       "    </tr>\n",
       "    <tr>\n",
       "      <th>1</th>\n",
       "      <td>Bianca Comparato</td>\n",
       "    </tr>\n",
       "    <tr>\n",
       "      <th>2</th>\n",
       "      <td>Michel Gomes</td>\n",
       "    </tr>\n",
       "    <tr>\n",
       "      <th>3</th>\n",
       "      <td>Rodolfo Valente</td>\n",
       "    </tr>\n",
       "    <tr>\n",
       "      <th>4</th>\n",
       "      <td>Vaneza Oliveira</td>\n",
       "    </tr>\n",
       "    <tr>\n",
       "      <th>5</th>\n",
       "      <td>Rafael Lozano</td>\n",
       "    </tr>\n",
       "    <tr>\n",
       "      <th>6</th>\n",
       "      <td>Viviane Porto</td>\n",
       "    </tr>\n",
       "    <tr>\n",
       "      <th>7</th>\n",
       "      <td>Mel Fronckowiak</td>\n",
       "    </tr>\n",
       "    <tr>\n",
       "      <th>8</th>\n",
       "      <td>Sergio Mamberti</td>\n",
       "    </tr>\n",
       "    <tr>\n",
       "      <th>9</th>\n",
       "      <td>Zezé Motta</td>\n",
       "    </tr>\n",
       "  </tbody>\n",
       "</table>\n",
       "</div>"
      ],
      "text/plain": [
       "                  0\n",
       "0       João Miguel\n",
       "1  Bianca Comparato\n",
       "2      Michel Gomes\n",
       "3   Rodolfo Valente\n",
       "4   Vaneza Oliveira\n",
       "5     Rafael Lozano\n",
       "6     Viviane Porto\n",
       "7   Mel Fronckowiak\n",
       "8   Sergio Mamberti\n",
       "9        Zezé Motta"
      ]
     },
     "execution_count": 25,
     "metadata": {},
     "output_type": "execute_result"
    }
   ],
   "source": [
    "Actors_df = pd.DataFrame(tv_ma_actors)\n",
    "Actors_df.head(10)"
   ]
  },
  {
   "cell_type": "code",
   "execution_count": null,
   "id": "42c6bb18",
   "metadata": {},
   "outputs": [],
   "source": []
  }
 ],
 "metadata": {
  "kernelspec": {
   "display_name": "Python 3 (ipykernel)",
   "language": "python",
   "name": "python3"
  },
  "language_info": {
   "codemirror_mode": {
    "name": "ipython",
    "version": 3
   },
   "file_extension": ".py",
   "mimetype": "text/x-python",
   "name": "python",
   "nbconvert_exporter": "python",
   "pygments_lexer": "ipython3",
   "version": "3.9.12"
  }
 },
 "nbformat": 4,
 "nbformat_minor": 5
}
